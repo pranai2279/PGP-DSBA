{
 "cells": [
  {
   "cell_type": "code",
   "execution_count": 1,
   "id": "3228f84b",
   "metadata": {},
   "outputs": [],
   "source": [
    "import numpy as np\n",
    "import pandas as pd\n",
    "import matplotlib.pyplot as plt\n",
    "import seaborn as sns\n",
    "from sklearn.cluster import KMeans"
   ]
  },
  {
   "cell_type": "code",
   "execution_count": 2,
   "id": "149f7b56",
   "metadata": {},
   "outputs": [
    {
     "data": {
      "text/html": [
       "<div>\n",
       "<style scoped>\n",
       "    .dataframe tbody tr th:only-of-type {\n",
       "        vertical-align: middle;\n",
       "    }\n",
       "\n",
       "    .dataframe tbody tr th {\n",
       "        vertical-align: top;\n",
       "    }\n",
       "\n",
       "    .dataframe thead th {\n",
       "        text-align: right;\n",
       "    }\n",
       "</style>\n",
       "<table border=\"1\" class=\"dataframe\">\n",
       "  <thead>\n",
       "    <tr style=\"text-align: right;\">\n",
       "      <th></th>\n",
       "      <th>Timestamp</th>\n",
       "      <th>InventoryType</th>\n",
       "      <th>Ad - Length</th>\n",
       "      <th>Ad- Width</th>\n",
       "      <th>Ad Size</th>\n",
       "      <th>Ad Type</th>\n",
       "      <th>Platform</th>\n",
       "      <th>Device Type</th>\n",
       "      <th>Format</th>\n",
       "      <th>Available_Impressions</th>\n",
       "      <th>Matched_Queries</th>\n",
       "      <th>Impressions</th>\n",
       "      <th>Clicks</th>\n",
       "      <th>Spend</th>\n",
       "      <th>Fee</th>\n",
       "      <th>Revenue</th>\n",
       "      <th>CTR</th>\n",
       "      <th>CPM</th>\n",
       "      <th>CPC</th>\n",
       "    </tr>\n",
       "  </thead>\n",
       "  <tbody>\n",
       "    <tr>\n",
       "      <th>0</th>\n",
       "      <td>2020-9-2-17</td>\n",
       "      <td>Format1</td>\n",
       "      <td>300</td>\n",
       "      <td>250</td>\n",
       "      <td>75000</td>\n",
       "      <td>Inter222</td>\n",
       "      <td>Video</td>\n",
       "      <td>Desktop</td>\n",
       "      <td>Display</td>\n",
       "      <td>1806</td>\n",
       "      <td>325</td>\n",
       "      <td>323</td>\n",
       "      <td>1</td>\n",
       "      <td>0.0</td>\n",
       "      <td>0.35</td>\n",
       "      <td>0.0</td>\n",
       "      <td>0.0031</td>\n",
       "      <td>0.0</td>\n",
       "      <td>0.0</td>\n",
       "    </tr>\n",
       "    <tr>\n",
       "      <th>1</th>\n",
       "      <td>2020-9-2-10</td>\n",
       "      <td>Format1</td>\n",
       "      <td>300</td>\n",
       "      <td>250</td>\n",
       "      <td>75000</td>\n",
       "      <td>Inter227</td>\n",
       "      <td>App</td>\n",
       "      <td>Mobile</td>\n",
       "      <td>Video</td>\n",
       "      <td>1780</td>\n",
       "      <td>285</td>\n",
       "      <td>285</td>\n",
       "      <td>1</td>\n",
       "      <td>0.0</td>\n",
       "      <td>0.35</td>\n",
       "      <td>0.0</td>\n",
       "      <td>0.0035</td>\n",
       "      <td>0.0</td>\n",
       "      <td>0.0</td>\n",
       "    </tr>\n",
       "    <tr>\n",
       "      <th>2</th>\n",
       "      <td>2020-9-1-22</td>\n",
       "      <td>Format1</td>\n",
       "      <td>300</td>\n",
       "      <td>250</td>\n",
       "      <td>75000</td>\n",
       "      <td>Inter222</td>\n",
       "      <td>Video</td>\n",
       "      <td>Desktop</td>\n",
       "      <td>Display</td>\n",
       "      <td>2727</td>\n",
       "      <td>356</td>\n",
       "      <td>355</td>\n",
       "      <td>1</td>\n",
       "      <td>0.0</td>\n",
       "      <td>0.35</td>\n",
       "      <td>0.0</td>\n",
       "      <td>0.0028</td>\n",
       "      <td>0.0</td>\n",
       "      <td>0.0</td>\n",
       "    </tr>\n",
       "    <tr>\n",
       "      <th>3</th>\n",
       "      <td>2020-9-3-20</td>\n",
       "      <td>Format1</td>\n",
       "      <td>300</td>\n",
       "      <td>250</td>\n",
       "      <td>75000</td>\n",
       "      <td>Inter228</td>\n",
       "      <td>Video</td>\n",
       "      <td>Mobile</td>\n",
       "      <td>Video</td>\n",
       "      <td>2430</td>\n",
       "      <td>497</td>\n",
       "      <td>495</td>\n",
       "      <td>1</td>\n",
       "      <td>0.0</td>\n",
       "      <td>0.35</td>\n",
       "      <td>0.0</td>\n",
       "      <td>0.0020</td>\n",
       "      <td>0.0</td>\n",
       "      <td>0.0</td>\n",
       "    </tr>\n",
       "    <tr>\n",
       "      <th>4</th>\n",
       "      <td>2020-9-4-15</td>\n",
       "      <td>Format1</td>\n",
       "      <td>300</td>\n",
       "      <td>250</td>\n",
       "      <td>75000</td>\n",
       "      <td>Inter217</td>\n",
       "      <td>Web</td>\n",
       "      <td>Desktop</td>\n",
       "      <td>Video</td>\n",
       "      <td>1218</td>\n",
       "      <td>242</td>\n",
       "      <td>242</td>\n",
       "      <td>1</td>\n",
       "      <td>0.0</td>\n",
       "      <td>0.35</td>\n",
       "      <td>0.0</td>\n",
       "      <td>0.0041</td>\n",
       "      <td>0.0</td>\n",
       "      <td>0.0</td>\n",
       "    </tr>\n",
       "  </tbody>\n",
       "</table>\n",
       "</div>"
      ],
      "text/plain": [
       "     Timestamp InventoryType  Ad - Length  Ad- Width  Ad Size   Ad Type  \\\n",
       "0  2020-9-2-17       Format1          300        250    75000  Inter222   \n",
       "1  2020-9-2-10       Format1          300        250    75000  Inter227   \n",
       "2  2020-9-1-22       Format1          300        250    75000  Inter222   \n",
       "3  2020-9-3-20       Format1          300        250    75000  Inter228   \n",
       "4  2020-9-4-15       Format1          300        250    75000  Inter217   \n",
       "\n",
       "  Platform Device Type   Format  Available_Impressions  Matched_Queries  \\\n",
       "0    Video     Desktop  Display                   1806              325   \n",
       "1      App      Mobile    Video                   1780              285   \n",
       "2    Video     Desktop  Display                   2727              356   \n",
       "3    Video      Mobile    Video                   2430              497   \n",
       "4      Web     Desktop    Video                   1218              242   \n",
       "\n",
       "   Impressions  Clicks  Spend   Fee  Revenue     CTR  CPM  CPC  \n",
       "0          323       1    0.0  0.35      0.0  0.0031  0.0  0.0  \n",
       "1          285       1    0.0  0.35      0.0  0.0035  0.0  0.0  \n",
       "2          355       1    0.0  0.35      0.0  0.0028  0.0  0.0  \n",
       "3          495       1    0.0  0.35      0.0  0.0020  0.0  0.0  \n",
       "4          242       1    0.0  0.35      0.0  0.0041  0.0  0.0  "
      ]
     },
     "execution_count": 2,
     "metadata": {},
     "output_type": "execute_result"
    }
   ],
   "source": [
    "df = pd.read_excel('Clustering Clean Ads_Data-2.xlsx')\n",
    "\n",
    "df.head()"
   ]
  },
  {
   "cell_type": "code",
   "execution_count": 3,
   "id": "956a06c0",
   "metadata": {},
   "outputs": [],
   "source": [
    "def calculate_cpm(x):\n",
    "    Total_Spend = df.Spend\n",
    "    Number_Impressions = df.Impressions\n",
    "    cpm = (Total_Spend/Number_Impressions)*1000\n",
    "    return cpm"
   ]
  },
  {
   "cell_type": "code",
   "execution_count": 4,
   "id": "bf941e10",
   "metadata": {},
   "outputs": [],
   "source": [
    "df['CPM']= df[['CPM']].apply(lambda x: calculate_cpm(x))"
   ]
  },
  {
   "cell_type": "code",
   "execution_count": 5,
   "id": "f2dfa143",
   "metadata": {},
   "outputs": [],
   "source": [
    "def calculate_cpc(x):\n",
    "    Total_Spend = df.Spend\n",
    "    Number_Clicks = df.Clicks\n",
    "    cpc = (Total_Spend/Number_Clicks)\n",
    "    return cpc\n",
    "df[\"CPC\"] = df[[\"CPC\"]].apply(lambda x : calculate_cpc(x))"
   ]
  },
  {
   "cell_type": "code",
   "execution_count": 6,
   "id": "d1b36ca1",
   "metadata": {},
   "outputs": [],
   "source": [
    "def calculate_ctr(x):\n",
    "    Number_Clicks = df.Clicks\n",
    "    Ad_Impressions = df.Impressions\n",
    "    ctr = (Number_Clicks/Ad_Impressions)*100\n",
    "    return ctr\n",
    "df[\"CTR\"] = df[[\"CTR\"]].apply(lambda x : calculate_ctr(x))"
   ]
  },
  {
   "cell_type": "code",
   "execution_count": 7,
   "id": "00ed5784",
   "metadata": {},
   "outputs": [],
   "source": [
    "df2=df.copy()"
   ]
  },
  {
   "cell_type": "code",
   "execution_count": 8,
   "id": "38beb560",
   "metadata": {},
   "outputs": [],
   "source": [
    "df2.drop([\"Timestamp\",\"InventoryType\",\"Ad Type\",\"Platform\",\"Device Type\",\"Format\"], axis = 1, inplace = True)"
   ]
  },
  {
   "cell_type": "code",
   "execution_count": 9,
   "id": "4cf4cabf",
   "metadata": {},
   "outputs": [],
   "source": [
    "def remove_outlier(col):\n",
    "    \n",
    "    Q1,Q3=np.percentile(col,[25,75])\n",
    "    IQR=Q3-Q1\n",
    "    lower_range= Q1-(1.5 * IQR)\n",
    "    upper_range= Q3+(1.5 * IQR)\n",
    "    return lower_range, upper_range"
   ]
  },
  {
   "cell_type": "code",
   "execution_count": 10,
   "id": "cd51d461",
   "metadata": {},
   "outputs": [],
   "source": [
    "column_names = ['Ad Size', 'Available_Impressions', 'Matched_Queries', 'Impressions',\n",
    "                'Clicks', 'Spend', 'Fee', 'Revenue', 'CTR', 'CPM', 'CPC']"
   ]
  },
  {
   "cell_type": "code",
   "execution_count": 11,
   "id": "fc2eb660",
   "metadata": {},
   "outputs": [
    {
     "name": "stdout",
     "output_type": "stream",
     "text": [
      "For column Ad Size\n",
      "Lower range: 54000.0 and upper range: 102000.0\n",
      "For column Available_Impressions\n",
      "Lower range: -3707387.0 and upper range: 6268771.0\n",
      "For column Matched_Queries\n",
      "Lower range: -1725343.75 and upper range: 2924326.25\n",
      "For column Impressions\n",
      "Lower range: -1648666.5 and upper range: 2769085.5\n",
      "For column Clicks\n",
      "Lower range: -17415.625 and upper range: 30919.375\n",
      "For column Spend\n",
      "Lower range: -4469.15 and upper range: 7675.73\n",
      "For column Fee\n",
      "Lower range: 0.30000000000000004 and upper range: 0.3799999999999999\n",
      "For column Revenue\n",
      "Lower range: -2998.5937874999995 and upper range: 5145.297312499999\n",
      "For column CTR\n",
      "Lower range: -19.543087778859437 and upper range: 33.27876617457427\n",
      "For column CPM\n",
      "Lower range: -15.19031633320633 and upper range: 29.981418178163874\n",
      "For column CPC\n",
      "Lower range: -0.5950238218287072 and upper range: 1.2310015773280991\n"
     ]
    }
   ],
   "source": [
    "for col_name in column_names:\n",
    "    lr, ur = remove_outlier(df2[col_name])\n",
    "    print(\"For column\", col_name)\n",
    "    print(\"Lower range:\", lr, \"and upper range:\", ur)\n",
    "\n",
    "    df2[col_name] = np.where(df2[col_name] > ur, ur, df2[col_name])\n",
    "    df2[col_name] = np.where(df2[col_name] < lr, lr, df2[col_name])"
   ]
  },
  {
   "cell_type": "code",
   "execution_count": 12,
   "id": "9acfad2e",
   "metadata": {},
   "outputs": [],
   "source": [
    "from sklearn.preprocessing import StandardScaler"
   ]
  },
  {
   "cell_type": "code",
   "execution_count": 13,
   "id": "49088993",
   "metadata": {},
   "outputs": [],
   "source": [
    "scaler = StandardScaler()"
   ]
  },
  {
   "cell_type": "code",
   "execution_count": 14,
   "id": "ace0ca86",
   "metadata": {},
   "outputs": [
    {
     "data": {
      "text/html": [
       "<div>\n",
       "<style scoped>\n",
       "    .dataframe tbody tr th:only-of-type {\n",
       "        vertical-align: middle;\n",
       "    }\n",
       "\n",
       "    .dataframe tbody tr th {\n",
       "        vertical-align: top;\n",
       "    }\n",
       "\n",
       "    .dataframe thead th {\n",
       "        text-align: right;\n",
       "    }\n",
       "</style>\n",
       "<table border=\"1\" class=\"dataframe\">\n",
       "  <thead>\n",
       "    <tr style=\"text-align: right;\">\n",
       "      <th></th>\n",
       "      <th>Ad - Length</th>\n",
       "      <th>Ad- Width</th>\n",
       "      <th>Ad Size</th>\n",
       "      <th>Available_Impressions</th>\n",
       "      <th>Matched_Queries</th>\n",
       "      <th>Impressions</th>\n",
       "      <th>Clicks</th>\n",
       "      <th>Spend</th>\n",
       "      <th>Fee</th>\n",
       "      <th>Revenue</th>\n",
       "      <th>CTR</th>\n",
       "      <th>CPM</th>\n",
       "      <th>CPC</th>\n",
       "    </tr>\n",
       "  </thead>\n",
       "  <tbody>\n",
       "    <tr>\n",
       "      <th>0</th>\n",
       "      <td>-0.364496</td>\n",
       "      <td>-0.432797</td>\n",
       "      <td>-0.102518</td>\n",
       "      <td>-0.755333</td>\n",
       "      <td>-0.778949</td>\n",
       "      <td>-0.768478</td>\n",
       "      <td>-0.867488</td>\n",
       "      <td>-0.89317</td>\n",
       "      <td>0.535724</td>\n",
       "      <td>-0.880093</td>\n",
       "      <td>-0.958836</td>\n",
       "      <td>-1.194498</td>\n",
       "      <td>-1.042561</td>\n",
       "    </tr>\n",
       "    <tr>\n",
       "      <th>1</th>\n",
       "      <td>-0.364496</td>\n",
       "      <td>-0.432797</td>\n",
       "      <td>-0.102518</td>\n",
       "      <td>-0.755345</td>\n",
       "      <td>-0.778988</td>\n",
       "      <td>-0.768516</td>\n",
       "      <td>-0.867488</td>\n",
       "      <td>-0.89317</td>\n",
       "      <td>0.535724</td>\n",
       "      <td>-0.880093</td>\n",
       "      <td>-0.953835</td>\n",
       "      <td>-1.194498</td>\n",
       "      <td>-1.042561</td>\n",
       "    </tr>\n",
       "    <tr>\n",
       "      <th>2</th>\n",
       "      <td>-0.364496</td>\n",
       "      <td>-0.432797</td>\n",
       "      <td>-0.102518</td>\n",
       "      <td>-0.754900</td>\n",
       "      <td>-0.778919</td>\n",
       "      <td>-0.768445</td>\n",
       "      <td>-0.867488</td>\n",
       "      <td>-0.89317</td>\n",
       "      <td>0.535724</td>\n",
       "      <td>-0.880093</td>\n",
       "      <td>-0.962218</td>\n",
       "      <td>-1.194498</td>\n",
       "      <td>-1.042561</td>\n",
       "    </tr>\n",
       "    <tr>\n",
       "      <th>3</th>\n",
       "      <td>-0.364496</td>\n",
       "      <td>-0.432797</td>\n",
       "      <td>-0.102518</td>\n",
       "      <td>-0.755040</td>\n",
       "      <td>-0.778781</td>\n",
       "      <td>-0.768302</td>\n",
       "      <td>-0.867488</td>\n",
       "      <td>-0.89317</td>\n",
       "      <td>0.535724</td>\n",
       "      <td>-0.880093</td>\n",
       "      <td>-0.971871</td>\n",
       "      <td>-1.194498</td>\n",
       "      <td>-1.042561</td>\n",
       "    </tr>\n",
       "    <tr>\n",
       "      <th>4</th>\n",
       "      <td>-0.364496</td>\n",
       "      <td>-0.432797</td>\n",
       "      <td>-0.102518</td>\n",
       "      <td>-0.755610</td>\n",
       "      <td>-0.779030</td>\n",
       "      <td>-0.768560</td>\n",
       "      <td>-0.867488</td>\n",
       "      <td>-0.89317</td>\n",
       "      <td>0.535724</td>\n",
       "      <td>-0.880093</td>\n",
       "      <td>-0.946281</td>\n",
       "      <td>-1.194498</td>\n",
       "      <td>-1.042561</td>\n",
       "    </tr>\n",
       "  </tbody>\n",
       "</table>\n",
       "</div>"
      ],
      "text/plain": [
       "   Ad - Length  Ad- Width   Ad Size  Available_Impressions  Matched_Queries  \\\n",
       "0    -0.364496  -0.432797 -0.102518              -0.755333        -0.778949   \n",
       "1    -0.364496  -0.432797 -0.102518              -0.755345        -0.778988   \n",
       "2    -0.364496  -0.432797 -0.102518              -0.754900        -0.778919   \n",
       "3    -0.364496  -0.432797 -0.102518              -0.755040        -0.778781   \n",
       "4    -0.364496  -0.432797 -0.102518              -0.755610        -0.779030   \n",
       "\n",
       "   Impressions    Clicks    Spend       Fee   Revenue       CTR       CPM  \\\n",
       "0    -0.768478 -0.867488 -0.89317  0.535724 -0.880093 -0.958836 -1.194498   \n",
       "1    -0.768516 -0.867488 -0.89317  0.535724 -0.880093 -0.953835 -1.194498   \n",
       "2    -0.768445 -0.867488 -0.89317  0.535724 -0.880093 -0.962218 -1.194498   \n",
       "3    -0.768302 -0.867488 -0.89317  0.535724 -0.880093 -0.971871 -1.194498   \n",
       "4    -0.768560 -0.867488 -0.89317  0.535724 -0.880093 -0.946281 -1.194498   \n",
       "\n",
       "        CPC  \n",
       "0 -1.042561  \n",
       "1 -1.042561  \n",
       "2 -1.042561  \n",
       "3 -1.042561  \n",
       "4 -1.042561  "
      ]
     },
     "execution_count": 14,
     "metadata": {},
     "output_type": "execute_result"
    }
   ],
   "source": [
    "df_scaled=pd.DataFrame(scaler.fit_transform(df2), columns=df2.columns)\n",
    "\n",
    "df_scaled.head()"
   ]
  },
  {
   "cell_type": "code",
   "execution_count": 16,
   "id": "9b8e79fe",
   "metadata": {},
   "outputs": [],
   "source": [
    "sse = {}\n",
    "for k in range(1, 11):\n",
    "    kmeans = KMeans(n_clusters=k, random_state=1).fit(df_scaled)\n",
    "    sse[k] = kmeans.inertia_"
   ]
  },
  {
   "cell_type": "code",
   "execution_count": 17,
   "id": "4325cd4f",
   "metadata": {},
   "outputs": [
    {
     "data": {
      "image/png": "[encoded data removed]",
      "text/plain": [
       "<Figure size 640x480 with 1 Axes>"
      ]
     },
     "metadata": {},
     "output_type": "display_data"
    }
   ],
   "source": [
    "plt.figure()\n",
    "plt.plot(list(sse.keys()), list(sse.values()), 'bx-')\n",
    "plt.xlabel(\"Number of cluster\")\n",
    "plt.ylabel(\"SSE\")\n",
    "plt.show()"
   ]
  },
  {
   "cell_type": "code",
   "execution_count": 18,
   "id": "bc98916f",
   "metadata": {},
   "outputs": [],
   "source": [
    "from sklearn.metrics import silhouette_samples, silhouette_score"
   ]
  },
  {
   "cell_type": "code",
   "execution_count": 20,
   "id": "20555a3a",
   "metadata": {},
   "outputs": [],
   "source": [
    "sc = {}\n",
    "for k in range(2, 11):\n",
    "    kmeans = KMeans(n_clusters=k, random_state=1).fit(df_scaled)\n",
    "    labels = kmeans.predict(df_scaled)\n",
    "    sc[k] = silhouette_score(df_scaled, labels)0"
   ]
  },
  {
   "cell_type": "code",
   "execution_count": 21,
   "id": "212d0378",
   "metadata": {},
   "outputs": [
    {
     "data": {
      "image/png": "[encoded data removed]",
      "text/plain": [
       "<Figure size 640x480 with 1 Axes>"
      ]
     },
     "metadata": {},
     "output_type": "display_data"
    }
   ],
   "source": [
    "plt.figure()\n",
    "plt.plot(list(sc.keys()), list(sc.values()), 'bx-')\n",
    "plt.xlabel(\"Number of cluster\")\n",
    "plt.ylabel(\"Silhouette Score\")\n",
    "plt.show()"
   ]
  },
  {
   "cell_type": "code",
   "execution_count": null,
   "id": "7bc132b2",
   "metadata": {},
   "outputs": [],
   "source": []
  }
 ],
 "metadata": {
  "kernelspec": {
   "display_name": "Python 3 (ipykernel)",
   "language": "python",
   "name": "python3"
  },
  "language_info": {
   "codemirror_mode": {
    "name": "ipython",
    "version": 3
   },
   "file_extension": ".py",
   "mimetype": "text/x-python",
   "name": "python",
   "nbconvert_exporter": "python",
   "pygments_lexer": "ipython3",
   "version": "3.9.13"
  }
 },
 "nbformat": 4,
 "nbformat_minor": 5
}
